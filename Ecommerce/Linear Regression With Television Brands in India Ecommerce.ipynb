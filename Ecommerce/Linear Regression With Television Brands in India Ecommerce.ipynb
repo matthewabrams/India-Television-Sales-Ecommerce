{
 "cells": [
  {
   "cell_type": "markdown",
   "id": "ed374573",
   "metadata": {},
   "source": [
    "### 1) Importing Libraries and Dataset"
   ]
  },
  {
   "cell_type": "code",
   "execution_count": 1,
   "id": "f3f692f8",
   "metadata": {},
   "outputs": [],
   "source": [
    "# Importing libraries\n",
    "\n",
    "import pandas as pd\n",
    "import numpy as np\n",
    "import seaborn as sns\n",
    "import matplotlib\n",
    "import matplotlib.pyplot as plt\n",
    "import os\n",
    "import sklearn\n",
    "from sklearn.model_selection import train_test_split \n",
    "from sklearn.linear_model import LinearRegression\n",
    "from sklearn.metrics import mean_squared_error, r2_score"
   ]
  },
  {
   "cell_type": "code",
   "execution_count": 2,
   "id": "be4e2867",
   "metadata": {},
   "outputs": [
    {
     "data": {
      "text/html": [
       "<div>\n",
       "<style scoped>\n",
       "    .dataframe tbody tr th:only-of-type {\n",
       "        vertical-align: middle;\n",
       "    }\n",
       "\n",
       "    .dataframe tbody tr th {\n",
       "        vertical-align: top;\n",
       "    }\n",
       "\n",
       "    .dataframe thead th {\n",
       "        text-align: right;\n",
       "    }\n",
       "</style>\n",
       "<table border=\"1\" class=\"dataframe\">\n",
       "  <thead>\n",
       "    <tr style=\"text-align: right;\">\n",
       "      <th></th>\n",
       "      <th>Brand</th>\n",
       "      <th>Column1</th>\n",
       "      <th>Resolution</th>\n",
       "      <th>Size</th>\n",
       "      <th>Selling Price in US dollars</th>\n",
       "      <th>Selling Price in Indian Rupees</th>\n",
       "      <th>Original Price in Indian Rupees</th>\n",
       "      <th>Percent Off</th>\n",
       "      <th>Operating System</th>\n",
       "      <th>Rating</th>\n",
       "    </tr>\n",
       "  </thead>\n",
       "  <tbody>\n",
       "    <tr>\n",
       "      <th>0</th>\n",
       "      <td>Hisense</td>\n",
       "      <td>NaN</td>\n",
       "      <td>QLED Ultra HD</td>\n",
       "      <td>75</td>\n",
       "      <td>6499.87</td>\n",
       "      <td>499990</td>\n",
       "      <td>499990</td>\n",
       "      <td>0%</td>\n",
       "      <td>Android</td>\n",
       "      <td>4.2</td>\n",
       "    </tr>\n",
       "    <tr>\n",
       "      <th>1</th>\n",
       "      <td>Samsung</td>\n",
       "      <td>NaN</td>\n",
       "      <td>QLED Ultra HD</td>\n",
       "      <td>65</td>\n",
       "      <td>6121.70</td>\n",
       "      <td>470900</td>\n",
       "      <td>470900</td>\n",
       "      <td>0%</td>\n",
       "      <td>Tizen</td>\n",
       "      <td>4.2</td>\n",
       "    </tr>\n",
       "    <tr>\n",
       "      <th>2</th>\n",
       "      <td>SONY</td>\n",
       "      <td>NaN</td>\n",
       "      <td>Ultra HD LED</td>\n",
       "      <td>65</td>\n",
       "      <td>6109.99</td>\n",
       "      <td>469999</td>\n",
       "      <td>529900</td>\n",
       "      <td>11%</td>\n",
       "      <td>Android</td>\n",
       "      <td>5.0</td>\n",
       "    </tr>\n",
       "    <tr>\n",
       "      <th>3</th>\n",
       "      <td>Sharp</td>\n",
       "      <td>NaN</td>\n",
       "      <td>Full HD LED</td>\n",
       "      <td>70</td>\n",
       "      <td>5848.70</td>\n",
       "      <td>449900</td>\n",
       "      <td>449900</td>\n",
       "      <td>0%</td>\n",
       "      <td>Linux</td>\n",
       "      <td>4.2</td>\n",
       "    </tr>\n",
       "    <tr>\n",
       "      <th>4</th>\n",
       "      <td>Samsung</td>\n",
       "      <td>NaN</td>\n",
       "      <td>Full HD LED</td>\n",
       "      <td>75</td>\n",
       "      <td>5458.70</td>\n",
       "      <td>419900</td>\n",
       "      <td>419900</td>\n",
       "      <td>0%</td>\n",
       "      <td>Tizen</td>\n",
       "      <td>4.2</td>\n",
       "    </tr>\n",
       "    <tr>\n",
       "      <th>...</th>\n",
       "      <td>...</td>\n",
       "      <td>...</td>\n",
       "      <td>...</td>\n",
       "      <td>...</td>\n",
       "      <td>...</td>\n",
       "      <td>...</td>\n",
       "      <td>...</td>\n",
       "      <td>...</td>\n",
       "      <td>...</td>\n",
       "      <td>...</td>\n",
       "    </tr>\n",
       "    <tr>\n",
       "      <th>907</th>\n",
       "      <td>RGL</td>\n",
       "      <td>NaN</td>\n",
       "      <td>Full HD LED</td>\n",
       "      <td>24</td>\n",
       "      <td>70.97</td>\n",
       "      <td>5459</td>\n",
       "      <td>12000</td>\n",
       "      <td>55%</td>\n",
       "      <td>HomeOS</td>\n",
       "      <td>3.9</td>\n",
       "    </tr>\n",
       "    <tr>\n",
       "      <th>908</th>\n",
       "      <td>Micromax</td>\n",
       "      <td>NaN</td>\n",
       "      <td>HD LED</td>\n",
       "      <td>20</td>\n",
       "      <td>69.73</td>\n",
       "      <td>5364</td>\n",
       "      <td>10990</td>\n",
       "      <td>51%</td>\n",
       "      <td>Android</td>\n",
       "      <td>4.1</td>\n",
       "    </tr>\n",
       "    <tr>\n",
       "      <th>909</th>\n",
       "      <td>RGL</td>\n",
       "      <td>NaN</td>\n",
       "      <td>Full HD LED</td>\n",
       "      <td>21</td>\n",
       "      <td>67.60</td>\n",
       "      <td>5200</td>\n",
       "      <td>9420</td>\n",
       "      <td>45%</td>\n",
       "      <td>HomeOS</td>\n",
       "      <td>3.9</td>\n",
       "    </tr>\n",
       "    <tr>\n",
       "      <th>910</th>\n",
       "      <td>RGL</td>\n",
       "      <td>NaN</td>\n",
       "      <td>Full HD LED</td>\n",
       "      <td>21</td>\n",
       "      <td>67.60</td>\n",
       "      <td>5200</td>\n",
       "      <td>9420</td>\n",
       "      <td>45%</td>\n",
       "      <td>HomeOS</td>\n",
       "      <td>3.9</td>\n",
       "    </tr>\n",
       "    <tr>\n",
       "      <th>911</th>\n",
       "      <td>RGL</td>\n",
       "      <td>NaN</td>\n",
       "      <td>Full HD LED</td>\n",
       "      <td>20</td>\n",
       "      <td>63.04</td>\n",
       "      <td>4849</td>\n",
       "      <td>8990</td>\n",
       "      <td>46%</td>\n",
       "      <td>HomeOS</td>\n",
       "      <td>3.9</td>\n",
       "    </tr>\n",
       "  </tbody>\n",
       "</table>\n",
       "<p>912 rows × 10 columns</p>\n",
       "</div>"
      ],
      "text/plain": [
       "        Brand  Column1     Resolution  Size   Selling Price in US dollars  \\\n",
       "0     Hisense      NaN  QLED Ultra HD     75                      6499.87   \n",
       "1     Samsung      NaN  QLED Ultra HD     65                      6121.70   \n",
       "2       SONY       NaN   Ultra HD LED     65                      6109.99   \n",
       "3      Sharp       NaN    Full HD LED     70                      5848.70   \n",
       "4     Samsung      NaN    Full HD LED     75                      5458.70   \n",
       "..        ...      ...            ...    ...                          ...   \n",
       "907      RGL       NaN    Full HD LED     24                        70.97   \n",
       "908  Micromax      NaN         HD LED     20                        69.73   \n",
       "909      RGL       NaN    Full HD LED     21                        67.60   \n",
       "910      RGL       NaN    Full HD LED     21                        67.60   \n",
       "911      RGL       NaN    Full HD LED     20                        63.04   \n",
       "\n",
       "     Selling Price in Indian Rupees  Original Price in Indian Rupees  \\\n",
       "0                            499990                           499990   \n",
       "1                            470900                           470900   \n",
       "2                            469999                           529900   \n",
       "3                            449900                           449900   \n",
       "4                            419900                           419900   \n",
       "..                              ...                              ...   \n",
       "907                            5459                            12000   \n",
       "908                            5364                            10990   \n",
       "909                            5200                             9420   \n",
       "910                            5200                             9420   \n",
       "911                            4849                             8990   \n",
       "\n",
       "    Percent Off Operating System  Rating  \n",
       "0            0%          Android     4.2  \n",
       "1            0%            Tizen     4.2  \n",
       "2           11%          Android     5.0  \n",
       "3            0%            Linux     4.2  \n",
       "4            0%            Tizen     4.2  \n",
       "..          ...              ...     ...  \n",
       "907         55%           HomeOS     3.9  \n",
       "908         51%          Android     4.1  \n",
       "909         45%           HomeOS     3.9  \n",
       "910         45%           HomeOS     3.9  \n",
       "911         46%           HomeOS     3.9  \n",
       "\n",
       "[912 rows x 10 columns]"
      ]
     },
     "execution_count": 2,
     "metadata": {},
     "output_type": "execute_result"
    }
   ],
   "source": [
    "# Importing India_Tv_Commerce.csv dataframe\n",
    "\n",
    "path = r'/Users/matthewabrams/Downloads/India_Tv_Commerce.csv'\n",
    "tv = pd.read_csv(os.path.join(path), index_col = False)\n",
    "tv "
   ]
  },
  {
   "cell_type": "markdown",
   "id": "15cbe7b4",
   "metadata": {},
   "source": [
    "### 2) Developing a linear regression for Selling Price and Rating column"
   ]
  },
  {
   "cell_type": "code",
   "execution_count": 3,
   "id": "32f26442",
   "metadata": {},
   "outputs": [
    {
     "data": {
      "image/png": "[encoded data removed]",
      "text/plain": [
       "<Figure size 432x288 with 1 Axes>"
      ]
     },
     "metadata": {
      "needs_background": "light"
     },
     "output_type": "display_data"
    }
   ],
   "source": [
    "# Create a scatterplot using matplotlib for another look at how the chosen variables plot against each other.\n",
    "\n",
    "tv.plot(x = 'Rating', y ='Selling Price in US dollars', style='o') # The style option creates a scatterplot; without it, we only have lines.\n",
    "plt.title('Selling Price of TV Brand VS Customer Rating', fontsize = 10, fontweight = 'bold')  \n",
    "plt.xlabel('Customer Rating', fontsize = 10, fontweight = 'bold')  \n",
    "plt.ylabel('Selling Price (US dollars)', fontsize = 10, fontweight = 'bold')  \n",
    "plt.show()"
   ]
  },
  {
   "cell_type": "code",
   "execution_count": 4,
   "id": "4ee1957b",
   "metadata": {},
   "outputs": [],
   "source": [
    "# Reshape the variables into NumPy arrays and put them into separate objects.\n",
    "\n",
    "X = tv['Rating'].values.reshape(-1,1)\n",
    "y = tv['Selling Price in US dollars'].values.reshape(-1,1)"
   ]
  },
  {
   "cell_type": "code",
   "execution_count": 5,
   "id": "a7d08fad",
   "metadata": {},
   "outputs": [],
   "source": [
    "#### 2a) Compare how the regression fits the testing set"
   ]
  },
  {
   "cell_type": "code",
   "execution_count": 6,
   "id": "4b7999b3",
   "metadata": {},
   "outputs": [],
   "source": [
    "# Split data into a training set and a test set.\n",
    "\n",
    "X_train, X_test, y_train, y_test = train_test_split(X, y, test_size=0.3, random_state=0)"
   ]
  },
  {
   "cell_type": "code",
   "execution_count": 7,
   "id": "6bf450f3",
   "metadata": {},
   "outputs": [
    {
     "data": {
      "text/plain": [
       "LinearRegression()"
      ]
     },
     "execution_count": 7,
     "metadata": {},
     "output_type": "execute_result"
    }
   ],
   "source": [
    "# Create a regression object.\n",
    "\n",
    "regression = LinearRegression()  # This is the regression object, which will be fit onto the training set.\n",
    "\n",
    "# Fit the regression object onto the training set.\n",
    "\n",
    "regression.fit(X_train, y_train)"
   ]
  },
  {
   "cell_type": "code",
   "execution_count": 8,
   "id": "2d6e150c",
   "metadata": {},
   "outputs": [],
   "source": [
    "# Predict the values of y using X.\n",
    "\n",
    "y_predicted = regression.predict(X_test)"
   ]
  },
  {
   "cell_type": "code",
   "execution_count": 9,
   "id": "5782c307",
   "metadata": {},
   "outputs": [
    {
     "data": {
      "image/png": "[encoded data removed]",
      "text/plain": [
       "<Figure size 432x288 with 1 Axes>"
      ]
     },
     "metadata": {
      "needs_background": "light"
     },
     "output_type": "display_data"
    }
   ],
   "source": [
    "# Create a plot that shows the regression line from the model on the test set.\n",
    "\n",
    "plot_test = plt\n",
    "plot_test.scatter(X_test, y_test, color= 'gray', s = 15)\n",
    "plot_test.plot(X_test, y_predicted, color= 'blue', linewidth = 3)\n",
    "plot_test.title('Rating vs Selling Price (Testing Set)', fontsize = 10, fontweight = 'bold')\n",
    "plot_test.xlabel('Rating', fontsize = 10, fontweight = 'bold')\n",
    "plot_test.ylabel('Selling Price', fontsize = 10, fontweight = 'bold')\n",
    "plot_test.show()"
   ]
  },
  {
   "cell_type": "code",
   "execution_count": 10,
   "id": "fd93a276",
   "metadata": {},
   "outputs": [],
   "source": [
    "# Create objects that contain the model summary statistics.\n",
    "\n",
    "rmse = mean_squared_error(y_test, y_predicted).round() # This is the mean squared error\n",
    "r2 = r2_score(y_test, y_predicted).round(3) # This is the R2 score. "
   ]
  },
  {
   "cell_type": "code",
   "execution_count": 11,
   "id": "00239066",
   "metadata": {},
   "outputs": [
    {
     "name": "stdout",
     "output_type": "stream",
     "text": [
      "Slope: [[332.3]]\n",
      "Mean squared error:  819845.0\n",
      "R2 score:  0.002\n"
     ]
    }
   ],
   "source": [
    "# Print the model summary statistics. This is where you evaluate the performance of the model.\n",
    "\n",
    "print('Slope:' ,regression.coef_.round(1))\n",
    "print('Mean squared error: ', rmse)\n",
    "print('R2 score: ', r2)"
   ]
  },
  {
   "cell_type": "code",
   "execution_count": 12,
   "id": "2c8a96f1",
   "metadata": {},
   "outputs": [],
   "source": [
    "# Since this linear regression model is less than 1% effective for my testing set, it's not the best fit for my data. \n",
    "# This could be due to data bias or not enough data points to produce significant results. "
   ]
  },
  {
   "cell_type": "code",
   "execution_count": 13,
   "id": "33875717",
   "metadata": {},
   "outputs": [
    {
     "data": {
      "text/html": [
       "<div>\n",
       "<style scoped>\n",
       "    .dataframe tbody tr th:only-of-type {\n",
       "        vertical-align: middle;\n",
       "    }\n",
       "\n",
       "    .dataframe tbody tr th {\n",
       "        vertical-align: top;\n",
       "    }\n",
       "\n",
       "    .dataframe thead th {\n",
       "        text-align: right;\n",
       "    }\n",
       "</style>\n",
       "<table border=\"1\" class=\"dataframe\">\n",
       "  <thead>\n",
       "    <tr style=\"text-align: right;\">\n",
       "      <th></th>\n",
       "      <th>Actual</th>\n",
       "      <th>Predicted</th>\n",
       "    </tr>\n",
       "  </thead>\n",
       "  <tbody>\n",
       "    <tr>\n",
       "      <th>0</th>\n",
       "      <td>817.70</td>\n",
       "      <td>667.194498</td>\n",
       "    </tr>\n",
       "    <tr>\n",
       "      <th>1</th>\n",
       "      <td>246.99</td>\n",
       "      <td>733.657409</td>\n",
       "    </tr>\n",
       "    <tr>\n",
       "      <th>2</th>\n",
       "      <td>1330.23</td>\n",
       "      <td>766.888865</td>\n",
       "    </tr>\n",
       "    <tr>\n",
       "      <th>3</th>\n",
       "      <td>207.99</td>\n",
       "      <td>733.657409</td>\n",
       "    </tr>\n",
       "    <tr>\n",
       "      <th>4</th>\n",
       "      <td>1329.77</td>\n",
       "      <td>766.888865</td>\n",
       "    </tr>\n",
       "    <tr>\n",
       "      <th>5</th>\n",
       "      <td>584.99</td>\n",
       "      <td>866.583232</td>\n",
       "    </tr>\n",
       "    <tr>\n",
       "      <th>6</th>\n",
       "      <td>2209.87</td>\n",
       "      <td>766.888865</td>\n",
       "    </tr>\n",
       "    <tr>\n",
       "      <th>7</th>\n",
       "      <td>69.73</td>\n",
       "      <td>733.657409</td>\n",
       "    </tr>\n",
       "    <tr>\n",
       "      <th>8</th>\n",
       "      <td>1819.87</td>\n",
       "      <td>866.583232</td>\n",
       "    </tr>\n",
       "    <tr>\n",
       "      <th>9</th>\n",
       "      <td>3639.87</td>\n",
       "      <td>766.888865</td>\n",
       "    </tr>\n",
       "    <tr>\n",
       "      <th>10</th>\n",
       "      <td>285.99</td>\n",
       "      <td>800.120321</td>\n",
       "    </tr>\n",
       "    <tr>\n",
       "      <th>11</th>\n",
       "      <td>441.99</td>\n",
       "      <td>833.351776</td>\n",
       "    </tr>\n",
       "    <tr>\n",
       "      <th>12</th>\n",
       "      <td>372.97</td>\n",
       "      <td>766.888865</td>\n",
       "    </tr>\n",
       "    <tr>\n",
       "      <th>13</th>\n",
       "      <td>1012.70</td>\n",
       "      <td>733.657409</td>\n",
       "    </tr>\n",
       "    <tr>\n",
       "      <th>14</th>\n",
       "      <td>227.49</td>\n",
       "      <td>800.120321</td>\n",
       "    </tr>\n",
       "    <tr>\n",
       "      <th>15</th>\n",
       "      <td>974.87</td>\n",
       "      <td>800.120321</td>\n",
       "    </tr>\n",
       "    <tr>\n",
       "      <th>16</th>\n",
       "      <td>389.87</td>\n",
       "      <td>766.888865</td>\n",
       "    </tr>\n",
       "    <tr>\n",
       "      <th>17</th>\n",
       "      <td>1104.87</td>\n",
       "      <td>766.888865</td>\n",
       "    </tr>\n",
       "    <tr>\n",
       "      <th>18</th>\n",
       "      <td>285.99</td>\n",
       "      <td>700.425954</td>\n",
       "    </tr>\n",
       "    <tr>\n",
       "      <th>19</th>\n",
       "      <td>240.37</td>\n",
       "      <td>766.888865</td>\n",
       "    </tr>\n",
       "    <tr>\n",
       "      <th>20</th>\n",
       "      <td>181.29</td>\n",
       "      <td>833.351776</td>\n",
       "    </tr>\n",
       "    <tr>\n",
       "      <th>21</th>\n",
       "      <td>2977.00</td>\n",
       "      <td>766.888865</td>\n",
       "    </tr>\n",
       "    <tr>\n",
       "      <th>22</th>\n",
       "      <td>779.87</td>\n",
       "      <td>766.888865</td>\n",
       "    </tr>\n",
       "    <tr>\n",
       "      <th>23</th>\n",
       "      <td>1689.87</td>\n",
       "      <td>766.888865</td>\n",
       "    </tr>\n",
       "    <tr>\n",
       "      <th>24</th>\n",
       "      <td>740.87</td>\n",
       "      <td>766.888865</td>\n",
       "    </tr>\n",
       "    <tr>\n",
       "      <th>25</th>\n",
       "      <td>207.99</td>\n",
       "      <td>733.657409</td>\n",
       "    </tr>\n",
       "    <tr>\n",
       "      <th>26</th>\n",
       "      <td>1273.87</td>\n",
       "      <td>766.888865</td>\n",
       "    </tr>\n",
       "    <tr>\n",
       "      <th>27</th>\n",
       "      <td>546.00</td>\n",
       "      <td>700.425954</td>\n",
       "    </tr>\n",
       "    <tr>\n",
       "      <th>28</th>\n",
       "      <td>662.99</td>\n",
       "      <td>866.583232</td>\n",
       "    </tr>\n",
       "    <tr>\n",
       "      <th>29</th>\n",
       "      <td>844.87</td>\n",
       "      <td>966.277598</td>\n",
       "    </tr>\n",
       "  </tbody>\n",
       "</table>\n",
       "</div>"
      ],
      "text/plain": [
       "     Actual   Predicted\n",
       "0    817.70  667.194498\n",
       "1    246.99  733.657409\n",
       "2   1330.23  766.888865\n",
       "3    207.99  733.657409\n",
       "4   1329.77  766.888865\n",
       "5    584.99  866.583232\n",
       "6   2209.87  766.888865\n",
       "7     69.73  733.657409\n",
       "8   1819.87  866.583232\n",
       "9   3639.87  766.888865\n",
       "10   285.99  800.120321\n",
       "11   441.99  833.351776\n",
       "12   372.97  766.888865\n",
       "13  1012.70  733.657409\n",
       "14   227.49  800.120321\n",
       "15   974.87  800.120321\n",
       "16   389.87  766.888865\n",
       "17  1104.87  766.888865\n",
       "18   285.99  700.425954\n",
       "19   240.37  766.888865\n",
       "20   181.29  833.351776\n",
       "21  2977.00  766.888865\n",
       "22   779.87  766.888865\n",
       "23  1689.87  766.888865\n",
       "24   740.87  766.888865\n",
       "25   207.99  733.657409\n",
       "26  1273.87  766.888865\n",
       "27   546.00  700.425954\n",
       "28   662.99  866.583232\n",
       "29   844.87  966.277598"
      ]
     },
     "execution_count": 13,
     "metadata": {},
     "output_type": "execute_result"
    }
   ],
   "source": [
    "# Create a dataframe comparing the actual and predicted values of y.\n",
    "\n",
    "data = pd.DataFrame({'Actual': y_test.flatten(), 'Predicted': y_predicted.flatten()})\n",
    "data.head(30)"
   ]
  },
  {
   "cell_type": "code",
   "execution_count": 14,
   "id": "e587996d",
   "metadata": {},
   "outputs": [],
   "source": [
    "# The predicted values are extremely far from the actual values"
   ]
  },
  {
   "cell_type": "markdown",
   "id": "dd6a4df3",
   "metadata": {},
   "source": [
    "#### 2b) Compare how the regression fits the training set"
   ]
  },
  {
   "cell_type": "code",
   "execution_count": 15,
   "id": "afa7bb87",
   "metadata": {},
   "outputs": [],
   "source": [
    "# Predict.\n",
    "\n",
    "y_predicted_train = regression.predict(X_train) # This is predicting X_train!"
   ]
  },
  {
   "cell_type": "code",
   "execution_count": 16,
   "id": "7f59a8a8",
   "metadata": {},
   "outputs": [],
   "source": [
    "rmse = mean_squared_error(y_train, y_predicted_train).round()\n",
    "r2 = r2_score(y_train, y_predicted_train).round(3)"
   ]
  },
  {
   "cell_type": "code",
   "execution_count": 17,
   "id": "9a8f5e7b",
   "metadata": {},
   "outputs": [
    {
     "name": "stdout",
     "output_type": "stream",
     "text": [
      "Slope: [[332.3]]\n",
      "Mean squared error:  682111.0\n",
      "R2 score:  0.017\n"
     ]
    }
   ],
   "source": [
    "print('Slope:' ,regression.coef_.round(1))\n",
    "print('Mean squared error: ', rmse)\n",
    "print('R2 score: ', r2)"
   ]
  },
  {
   "cell_type": "code",
   "execution_count": 18,
   "id": "9e1500cd",
   "metadata": {},
   "outputs": [
    {
     "data": {
      "image/png": "[encoded data removed]",
      "text/plain": [
       "<Figure size 432x288 with 1 Axes>"
      ]
     },
     "metadata": {
      "needs_background": "light"
     },
     "output_type": "display_data"
    }
   ],
   "source": [
    "# Visualizing the training set results.\n",
    "\n",
    "plot_test = plt\n",
    "plot_test.scatter(X_train, y_train, color='red', s = 15)\n",
    "plot_test.plot(X_train, y_predicted_train, color='blue', linewidth =3)\n",
    "plot_test.title('Rating vs Selling Price (Training Set)', fontsize = 10, fontweight = 'bold')\n",
    "plot_test.xlabel('Rating', fontsize = 10, fontweight = 'bold')\n",
    "plot_test.ylabel('Selling Price', fontsize = 10, fontweight = 'bold')\n",
    "plot_test.show()"
   ]
  },
  {
   "cell_type": "markdown",
   "id": "51ee2656",
   "metadata": {},
   "source": [
    "### 3) Summary"
   ]
  },
  {
   "cell_type": "code",
   "execution_count": 19,
   "id": "bf66937a",
   "metadata": {},
   "outputs": [],
   "source": [
    "# There is a weak correlation between Customer Rating and Selling Price of Televisions\n",
    "# May be helpful if I had more data points\n",
    "# Since using a Linear Regression model for my variables is not strong, I'd have to use another model that's non-linear"
   ]
  }
 ],
 "metadata": {
  "kernelspec": {
   "display_name": "Python 3 (ipykernel)",
   "language": "python",
   "name": "python3"
  },
  "language_info": {
   "codemirror_mode": {
    "name": "ipython",
    "version": 3
   },
   "file_extension": ".py",
   "mimetype": "text/x-python",
   "name": "python",
   "nbconvert_exporter": "python",
   "pygments_lexer": "ipython3",
   "version": "3.9.7"
  }
 },
 "nbformat": 4,
 "nbformat_minor": 5
}
